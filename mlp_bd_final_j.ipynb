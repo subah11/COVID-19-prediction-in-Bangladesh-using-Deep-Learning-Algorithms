{
  "nbformat": 4,
  "nbformat_minor": 0,
  "metadata": {
    "kernelspec": {
      "language": "python",
      "display_name": "Python 3",
      "name": "python3"
    },
    "language_info": {
      "name": "python",
      "version": "3.7.10",
      "mimetype": "text/x-python",
      "codemirror_mode": {
        "name": "ipython",
        "version": 3
      },
      "pygments_lexer": "ipython3",
      "nbconvert_exporter": "python",
      "file_extension": ".py"
    },
    "colab": {
      "provenance": []
    }
  },
  "cells": [
    {
      "cell_type": "code",
      "metadata": {
        "colab": {
          "base_uri": "https://localhost:8080/"
        },
        "id": "NezG9WrAyIW9",
        "outputId": "a2c2387d-7e8c-4931-b85e-8d4018aee311"
      },
      "source": [
        "from google.colab import drive\n",
        "drive.mount('/content/drive')"
      ],
      "execution_count": null,
      "outputs": [
        {
          "output_type": "stream",
          "text": [
            "Drive already mounted at /content/drive; to attempt to forcibly remount, call drive.mount(\"/content/drive\", force_remount=True).\n"
          ],
          "name": "stdout"
        }
      ]
    },
    {
      "cell_type": "code",
      "metadata": {
        "_uuid": "8f2839f25d086af736a60e9eeb907d3b93b6e0e5",
        "_cell_guid": "b1076dfc-b9ad-4769-8c92-a6c4dae69d19",
        "execution": {
          "iopub.status.busy": "2021-07-27T19:55:26.215738Z",
          "iopub.execute_input": "2021-07-27T19:55:26.216258Z",
          "iopub.status.idle": "2021-07-27T19:55:26.222016Z",
          "shell.execute_reply.started": "2021-07-27T19:55:26.216222Z",
          "shell.execute_reply": "2021-07-27T19:55:26.220907Z"
        },
        "trusted": true,
        "id": "ybplUm8dyBy7"
      },
      "source": [
        "# multivariate data preparation & prediction using MLP\n",
        "from numpy import array\n",
        "from numpy import hstack\n",
        "import numpy as np\n",
        "import pandas as pd\n",
        "from keras.models import Sequential\n",
        "from keras.layers import Dense\n",
        "from keras.callbacks import ReduceLROnPlateau"
      ],
      "execution_count": null,
      "outputs": []
    },
    {
      "cell_type": "code",
      "metadata": {
        "execution": {
          "iopub.status.busy": "2021-07-27T19:55:27.025087Z",
          "iopub.execute_input": "2021-07-27T19:55:27.025610Z",
          "iopub.status.idle": "2021-07-27T19:55:27.032792Z",
          "shell.execute_reply.started": "2021-07-27T19:55:27.025565Z",
          "shell.execute_reply": "2021-07-27T19:55:27.031861Z"
        },
        "trusted": true,
        "id": "N6xnhdbkyBzE"
      },
      "source": [
        "#definining function from machinelearningmastery.com. Used to segment total cases (y) and other variables in n_steps\n",
        "# def split_sequences(sequences, n_steps):\n",
        "#     X, y = list(), list()\n",
        "#     for i in range(len(sequences)):\n",
        "\n",
        "#         end_ix = i + n_steps\n",
        "\n",
        "#         if end_ix > len(sequences):\n",
        "#             break\n",
        "\n",
        "#         seq_x, seq_y = sequences[i:end_ix, :-1], sequences[end_ix-1, -1]\n",
        "#         X.append(seq_x)\n",
        "#         y.append(seq_y)\n",
        "#     return array(X), array(y)\n",
        "\n",
        "def split_sequence(sequence, n_steps):\n",
        "    X, y = list(), list()\n",
        "    for i in range(len(sequence)):\n",
        "        # find the end of this pattern\n",
        "        end_ix = i + n_steps\n",
        "        # check if we are beyond the sequence\n",
        "        if end_ix > len(sequence)-1:\n",
        "            break\n",
        "        # gather input and output parts of the pattern\n",
        "        seq_x, seq_y = sequence[i:end_ix], sequence[end_ix]\n",
        "        X.append(seq_x)\n",
        "        y.append(seq_y)\n",
        "    return array(X), array(y)\n",
        "\n",
        "# test train splitter\n",
        "\n",
        "\n",
        "def train_test_split(data, n_test):\n",
        "\n",
        "    return data[:-n_test], data[-n_test:]"
      ],
      "execution_count": null,
      "outputs": []
    },
    {
      "cell_type": "code",
      "metadata": {
        "id": "QbSf3x-ryBzH"
      },
      "source": [],
      "execution_count": null,
      "outputs": []
    },
    {
      "cell_type": "code",
      "metadata": {
        "execution": {
          "iopub.status.busy": "2021-07-27T19:55:29.666181Z",
          "iopub.execute_input": "2021-07-27T19:55:29.666706Z",
          "iopub.status.idle": "2021-07-27T19:55:29.704501Z",
          "shell.execute_reply.started": "2021-07-27T19:55:29.666659Z",
          "shell.execute_reply": "2021-07-27T19:55:29.703781Z"
        },
        "trusted": true,
        "id": "IgaSds-LyBzI"
      },
      "source": [
        "# the dataset is modelled here such that it is compatible with out MLP model\n",
        "\n",
        "bd = pd.read_csv('/content/drive/MyDrive/New data/csv files/bd_owid_filtered.csv', sep = ';')\n",
        "bd.tail()\n",
        "\n",
        "dates = bd[['date']]\n",
        "bddata = bd.drop(columns = \"date\")\n",
        "\n",
        "bddata = bd[[\"total_cases\"]]\n",
        "\n",
        "\n"
      ],
      "execution_count": null,
      "outputs": []
    },
    {
      "cell_type": "code",
      "metadata": {
        "id": "xAfvaLlHyBzK"
      },
      "source": [],
      "execution_count": null,
      "outputs": []
    },
    {
      "cell_type": "code",
      "metadata": {
        "execution": {
          "iopub.status.busy": "2021-07-27T19:55:32.165202Z",
          "iopub.execute_input": "2021-07-27T19:55:32.165755Z",
          "iopub.status.idle": "2021-07-27T19:55:32.176133Z",
          "shell.execute_reply.started": "2021-07-27T19:55:32.165707Z",
          "shell.execute_reply": "2021-07-27T19:55:32.174511Z"
        },
        "trusted": true,
        "colab": {
          "base_uri": "https://localhost:8080/",
          "height": 206
        },
        "id": "8lROhe0TyBzL",
        "outputId": "44ae7ee7-042e-4c39-8f78-d862369687fe"
      },
      "source": [
        "bddata.tail()"
      ],
      "execution_count": null,
      "outputs": [
        {
          "output_type": "execute_result",
          "data": {
            "text/html": [
              "<div>\n",
              "<style scoped>\n",
              "    .dataframe tbody tr th:only-of-type {\n",
              "        vertical-align: middle;\n",
              "    }\n",
              "\n",
              "    .dataframe tbody tr th {\n",
              "        vertical-align: top;\n",
              "    }\n",
              "\n",
              "    .dataframe thead th {\n",
              "        text-align: right;\n",
              "    }\n",
              "</style>\n",
              "<table border=\"1\" class=\"dataframe\">\n",
              "  <thead>\n",
              "    <tr style=\"text-align: right;\">\n",
              "      <th></th>\n",
              "      <th>total_cases</th>\n",
              "    </tr>\n",
              "  </thead>\n",
              "  <tbody>\n",
              "    <tr>\n",
              "      <th>473</th>\n",
              "      <td>848027.0</td>\n",
              "    </tr>\n",
              "    <tr>\n",
              "      <th>474</th>\n",
              "      <td>851668.0</td>\n",
              "    </tr>\n",
              "    <tr>\n",
              "      <th>475</th>\n",
              "      <td>856304.0</td>\n",
              "    </tr>\n",
              "    <tr>\n",
              "      <th>476</th>\n",
              "      <td>861150.0</td>\n",
              "    </tr>\n",
              "    <tr>\n",
              "      <th>477</th>\n",
              "      <td>866877.0</td>\n",
              "    </tr>\n",
              "  </tbody>\n",
              "</table>\n",
              "</div>"
            ],
            "text/plain": [
              "     total_cases\n",
              "473     848027.0\n",
              "474     851668.0\n",
              "475     856304.0\n",
              "476     861150.0\n",
              "477     866877.0"
            ]
          },
          "metadata": {
            "tags": []
          },
          "execution_count": 188
        }
      ]
    },
    {
      "cell_type": "code",
      "metadata": {
        "execution": {
          "iopub.status.busy": "2021-07-27T18:48:38.476059Z",
          "iopub.execute_input": "2021-07-27T18:48:38.476683Z",
          "iopub.status.idle": "2021-07-27T18:48:38.480685Z",
          "shell.execute_reply.started": "2021-07-27T18:48:38.476616Z",
          "shell.execute_reply": "2021-07-27T18:48:38.479711Z"
        },
        "trusted": true,
        "id": "C4mqXD1cyBzO"
      },
      "source": [
        "# totalcases = bddata[['total_cases']]\n",
        "# totalcases.describe()"
      ],
      "execution_count": null,
      "outputs": []
    },
    {
      "cell_type": "code",
      "metadata": {
        "execution": {
          "iopub.status.busy": "2021-07-27T16:26:11.803153Z",
          "iopub.execute_input": "2021-07-27T16:26:11.803578Z",
          "iopub.status.idle": "2021-07-27T16:26:11.811669Z",
          "shell.execute_reply.started": "2021-07-27T16:26:11.803540Z",
          "shell.execute_reply": "2021-07-27T16:26:11.810779Z"
        },
        "trusted": true,
        "id": "YSfT4YcMyBzR"
      },
      "source": [
        "# bddata = bddata.drop(columns = \"total_cases\")"
      ],
      "execution_count": null,
      "outputs": []
    },
    {
      "cell_type": "code",
      "metadata": {
        "execution": {
          "iopub.status.busy": "2021-07-27T16:26:13.050358Z",
          "iopub.execute_input": "2021-07-27T16:26:13.050783Z",
          "iopub.status.idle": "2021-07-27T16:26:13.088726Z",
          "shell.execute_reply.started": "2021-07-27T16:26:13.050746Z",
          "shell.execute_reply": "2021-07-27T16:26:13.087810Z"
        },
        "trusted": true,
        "id": "tPSQtvcTyBzT"
      },
      "source": [
        "# frames = [bddata, totalcases]\n",
        "\n",
        "# data = pd.concat(frames, axis = 1)\n",
        "\n",
        "# data.head()\n",
        "\n"
      ],
      "execution_count": null,
      "outputs": []
    },
    {
      "cell_type": "code",
      "metadata": {
        "execution": {
          "iopub.status.busy": "2021-07-27T19:55:35.483269Z",
          "iopub.execute_input": "2021-07-27T19:55:35.483631Z",
          "iopub.status.idle": "2021-07-27T19:55:35.490176Z",
          "shell.execute_reply.started": "2021-07-27T19:55:35.483604Z",
          "shell.execute_reply": "2021-07-27T19:55:35.488633Z"
        },
        "trusted": true,
        "id": "YqgkdggYyBzW"
      },
      "source": [
        "datanum = bddata.to_numpy()"
      ],
      "execution_count": null,
      "outputs": []
    },
    {
      "cell_type": "code",
      "metadata": {
        "execution": {
          "iopub.status.busy": "2021-07-27T19:55:36.480440Z",
          "iopub.execute_input": "2021-07-27T19:55:36.480854Z",
          "iopub.status.idle": "2021-07-27T19:55:36.487284Z",
          "shell.execute_reply.started": "2021-07-27T19:55:36.480820Z",
          "shell.execute_reply": "2021-07-27T19:55:36.485319Z"
        },
        "trusted": true,
        "id": "kC_k-yppyBzY"
      },
      "source": [
        "n_test = 9\n",
        "datanum, testset = train_test_split(datanum, n_test)"
      ],
      "execution_count": null,
      "outputs": []
    },
    {
      "cell_type": "code",
      "metadata": {
        "execution": {
          "iopub.status.busy": "2021-07-27T19:55:37.487223Z",
          "iopub.execute_input": "2021-07-27T19:55:37.487741Z",
          "iopub.status.idle": "2021-07-27T19:55:37.495366Z",
          "shell.execute_reply.started": "2021-07-27T19:55:37.487705Z",
          "shell.execute_reply": "2021-07-27T19:55:37.493801Z"
        },
        "trusted": true,
        "colab": {
          "base_uri": "https://localhost:8080/"
        },
        "id": "qHKlNCGVyBza",
        "outputId": "27824c78-af6a-4536-d43a-36887ebc9c49"
      },
      "source": [
        "datanum.shape"
      ],
      "execution_count": null,
      "outputs": [
        {
          "output_type": "execute_result",
          "data": {
            "text/plain": [
              "(469, 1)"
            ]
          },
          "metadata": {
            "tags": []
          },
          "execution_count": 194
        }
      ]
    },
    {
      "cell_type": "code",
      "metadata": {
        "execution": {
          "iopub.status.busy": "2021-07-27T19:55:39.212146Z",
          "iopub.execute_input": "2021-07-27T19:55:39.212558Z",
          "iopub.status.idle": "2021-07-27T19:55:39.220197Z",
          "shell.execute_reply.started": "2021-07-27T19:55:39.212522Z",
          "shell.execute_reply": "2021-07-27T19:55:39.218735Z"
        },
        "trusted": true,
        "id": "4yVPkWbIyBzc"
      },
      "source": [
        "n_steps = 3\n",
        "X, y = split_sequence(datanum, n_steps)"
      ],
      "execution_count": null,
      "outputs": []
    },
    {
      "cell_type": "code",
      "metadata": {
        "execution": {
          "iopub.status.busy": "2021-07-27T19:55:40.288606Z",
          "iopub.execute_input": "2021-07-27T19:55:40.289040Z",
          "iopub.status.idle": "2021-07-27T19:55:40.296542Z",
          "shell.execute_reply.started": "2021-07-27T19:55:40.289004Z",
          "shell.execute_reply": "2021-07-27T19:55:40.295437Z"
        },
        "trusted": true,
        "id": "3xRFfyklyBzd"
      },
      "source": [
        "X.shape\n",
        "for i in range(len(X)):\n",
        "\tprint(X[i], y[i])"
      ],
      "execution_count": null,
      "outputs": []
    },
    {
      "cell_type": "code",
      "metadata": {
        "execution": {
          "iopub.status.busy": "2021-07-27T19:55:42.399822Z",
          "iopub.execute_input": "2021-07-27T19:55:42.400347Z",
          "iopub.status.idle": "2021-07-27T19:55:42.407511Z",
          "shell.execute_reply.started": "2021-07-27T19:55:42.400314Z",
          "shell.execute_reply": "2021-07-27T19:55:42.406474Z"
        },
        "trusted": true,
        "colab": {
          "base_uri": "https://localhost:8080/"
        },
        "id": "-uAym_gwyBzf",
        "outputId": "2547a3da-4894-4f0e-f1e7-8f2088737511"
      },
      "source": [
        "X.shape, y.shape"
      ],
      "execution_count": null,
      "outputs": [
        {
          "output_type": "execute_result",
          "data": {
            "text/plain": [
              "((466, 3, 1), (466, 1))"
            ]
          },
          "metadata": {
            "tags": []
          },
          "execution_count": 197
        }
      ]
    },
    {
      "cell_type": "code",
      "metadata": {
        "execution": {
          "iopub.status.busy": "2021-07-27T19:55:43.774312Z",
          "iopub.execute_input": "2021-07-27T19:55:43.774851Z",
          "iopub.status.idle": "2021-07-27T19:55:43.779740Z",
          "shell.execute_reply.started": "2021-07-27T19:55:43.774802Z",
          "shell.execute_reply": "2021-07-27T19:55:43.778428Z"
        },
        "trusted": true,
        "id": "_0eam2IMyBzg"
      },
      "source": [
        "# flatten input\n",
        "\n",
        "n_input = X.shape[1] * X.shape[2]\n",
        "X = X.reshape((X.shape[0], n_input))\n",
        "X.shape"
      ],
      "execution_count": null,
      "outputs": []
    },
    {
      "cell_type": "code",
      "metadata": {
        "execution": {
          "iopub.status.busy": "2021-07-27T19:55:47.482758Z",
          "iopub.execute_input": "2021-07-27T19:55:47.483134Z",
          "iopub.status.idle": "2021-07-27T19:55:47.516628Z",
          "shell.execute_reply.started": "2021-07-27T19:55:47.483102Z",
          "shell.execute_reply": "2021-07-27T19:55:47.515947Z"
        },
        "trusted": true,
        "colab": {
          "base_uri": "https://localhost:8080/"
        },
        "id": "ej9gDNOayBzh",
        "outputId": "a528e2ac-3732-48fb-c0be-3cba4960b861"
      },
      "source": [
        "# define\n",
        "model = Sequential()\n",
        "model.add(Dense(500, activation='relu', input_dim=n_input))\n",
        "model.add(Dense(1))\n",
        "model.compile(optimizer='adam', loss='mse')\n",
        "\n",
        "model.summary()\n"
      ],
      "execution_count": null,
      "outputs": [
        {
          "output_type": "stream",
          "text": [
            "Model: \"sequential_6\"\n",
            "_________________________________________________________________\n",
            "Layer (type)                 Output Shape              Param #   \n",
            "=================================================================\n",
            "dense_12 (Dense)             (None, 500)               2000      \n",
            "_________________________________________________________________\n",
            "dense_13 (Dense)             (None, 1)                 501       \n",
            "=================================================================\n",
            "Total params: 2,501\n",
            "Trainable params: 2,501\n",
            "Non-trainable params: 0\n",
            "_________________________________________________________________\n"
          ],
          "name": "stdout"
        }
      ]
    },
    {
      "cell_type": "code",
      "metadata": {
        "execution": {
          "iopub.status.busy": "2021-07-27T19:55:51.746952Z",
          "iopub.execute_input": "2021-07-27T19:55:51.747621Z",
          "iopub.status.idle": "2021-07-27T19:55:51.751580Z",
          "shell.execute_reply.started": "2021-07-27T19:55:51.747565Z",
          "shell.execute_reply": "2021-07-27T19:55:51.750768Z"
        },
        "trusted": true,
        "id": "qHcfYwd-yBzi"
      },
      "source": [
        "rlrp = ReduceLROnPlateau(monitor='loss', factor=0.4, verbose=0, min_lr=0.001)"
      ],
      "execution_count": null,
      "outputs": []
    },
    {
      "cell_type": "code",
      "metadata": {
        "_kg_hide-output": false,
        "_kg_hide-input": false,
        "execution": {
          "iopub.status.busy": "2021-07-27T19:55:54.056345Z",
          "iopub.execute_input": "2021-07-27T19:55:54.056890Z",
          "iopub.status.idle": "2021-07-27T19:56:32.123483Z",
          "shell.execute_reply.started": "2021-07-27T19:55:54.056837Z",
          "shell.execute_reply": "2021-07-27T19:56:32.122730Z"
        },
        "trusted": true,
        "colab": {
          "base_uri": "https://localhost:8080/"
        },
        "id": "AKwIIqddyBzi",
        "outputId": "a90d1f5d-a3d8-42a8-f55c-d916d9c24ec5"
      },
      "source": [
        "model.fit(X, y, epochs=2500, verbose=0)"
      ],
      "execution_count": null,
      "outputs": [
        {
          "output_type": "execute_result",
          "data": {
            "text/plain": [
              "<keras.callbacks.History at 0x7fa68ed14610>"
            ]
          },
          "metadata": {
            "tags": []
          },
          "execution_count": 201
        }
      ]
    },
    {
      "cell_type": "code",
      "metadata": {
        "execution": {
          "iopub.status.busy": "2021-07-27T19:56:35.306423Z",
          "iopub.execute_input": "2021-07-27T19:56:35.306971Z",
          "iopub.status.idle": "2021-07-27T19:56:35.391291Z",
          "shell.execute_reply.started": "2021-07-27T19:56:35.306908Z",
          "shell.execute_reply": "2021-07-27T19:56:35.390120Z"
        },
        "trusted": true,
        "id": "zv5ECRcGyBzj"
      },
      "source": [
        "Xdata, yactual = split_sequence(datanum, n_steps)\n",
        "y_pred = model.predict(X);"
      ],
      "execution_count": null,
      "outputs": []
    },
    {
      "cell_type": "code",
      "metadata": {
        "execution": {
          "iopub.status.busy": "2021-07-27T20:02:53.575981Z",
          "iopub.execute_input": "2021-07-27T20:02:53.576371Z",
          "iopub.status.idle": "2021-07-27T20:02:53.628965Z",
          "shell.execute_reply.started": "2021-07-27T20:02:53.576337Z",
          "shell.execute_reply": "2021-07-27T20:02:53.627646Z"
        },
        "trusted": true,
        "id": "-pLO9nsZyBzk"
      },
      "source": [
        "Xdatatest, yactualtest = split_sequence(testset, n_steps)\n",
        "# Xdatatest = Xdatatest.reshape((1, n_steps))\n",
        "# y_pred_test = model.predict(X);\n",
        "Xdatatest.shape, X.shape\n",
        "Xdatatest = Xdatatest.reshape((Xdatatest.shape[0], n_input))\n",
        "y_pred_test = model.predict(Xdatatest);"
      ],
      "execution_count": null,
      "outputs": []
    },
    {
      "cell_type": "code",
      "metadata": {
        "execution": {
          "iopub.status.busy": "2021-07-27T19:46:24.560428Z",
          "iopub.execute_input": "2021-07-27T19:46:24.560807Z",
          "iopub.status.idle": "2021-07-27T19:46:24.570955Z",
          "shell.execute_reply.started": "2021-07-27T19:46:24.560776Z",
          "shell.execute_reply": "2021-07-27T19:46:24.569754Z"
        },
        "trusted": true,
        "colab": {
          "base_uri": "https://localhost:8080/"
        },
        "id": "YD4ulrZKyBzl",
        "outputId": "434914f7-7e1e-4af1-ad14-2a411a9b4a43"
      },
      "source": [
        "y_pred.shape"
      ],
      "execution_count": null,
      "outputs": [
        {
          "output_type": "execute_result",
          "data": {
            "text/plain": [
              "(466, 1)"
            ]
          },
          "metadata": {
            "tags": []
          },
          "execution_count": 204
        }
      ]
    },
    {
      "cell_type": "code",
      "metadata": {
        "execution": {
          "iopub.status.busy": "2021-07-27T19:46:25.466639Z",
          "iopub.execute_input": "2021-07-27T19:46:25.467056Z",
          "iopub.status.idle": "2021-07-27T19:46:25.476753Z",
          "shell.execute_reply.started": "2021-07-27T19:46:25.467022Z",
          "shell.execute_reply": "2021-07-27T19:46:25.475457Z"
        },
        "trusted": true,
        "colab": {
          "base_uri": "https://localhost:8080/"
        },
        "id": "ow2lLLX8yBzm",
        "outputId": "5f7606aa-11cd-4567-f6b3-50eb6ac5073c"
      },
      "source": [
        "yactual.shape"
      ],
      "execution_count": null,
      "outputs": [
        {
          "output_type": "execute_result",
          "data": {
            "text/plain": [
              "(466, 1)"
            ]
          },
          "metadata": {
            "tags": []
          },
          "execution_count": 205
        }
      ]
    },
    {
      "cell_type": "code",
      "metadata": {
        "execution": {
          "iopub.status.busy": "2021-07-27T20:03:50.988652Z",
          "iopub.execute_input": "2021-07-27T20:03:50.989015Z",
          "iopub.status.idle": "2021-07-27T20:03:50.994492Z",
          "shell.execute_reply.started": "2021-07-27T20:03:50.988984Z",
          "shell.execute_reply": "2021-07-27T20:03:50.993608Z"
        },
        "trusted": true,
        "colab": {
          "base_uri": "https://localhost:8080/"
        },
        "id": "-t_F2jkYyBzn",
        "outputId": "c7b5fd0e-f28d-4c7a-ad56-9b2b5e0f757c"
      },
      "source": [
        "y_pred_test.shape"
      ],
      "execution_count": null,
      "outputs": [
        {
          "output_type": "execute_result",
          "data": {
            "text/plain": [
              "(6, 1)"
            ]
          },
          "metadata": {
            "tags": []
          },
          "execution_count": 206
        }
      ]
    },
    {
      "cell_type": "code",
      "metadata": {
        "execution": {
          "iopub.status.busy": "2021-07-27T20:04:17.077608Z",
          "iopub.execute_input": "2021-07-27T20:04:17.077964Z",
          "iopub.status.idle": "2021-07-27T20:04:17.084986Z",
          "shell.execute_reply.started": "2021-07-27T20:04:17.077919Z",
          "shell.execute_reply": "2021-07-27T20:04:17.083829Z"
        },
        "trusted": true,
        "colab": {
          "base_uri": "https://localhost:8080/"
        },
        "id": "d0WwrZENyBzp",
        "outputId": "1f2d83f5-7ed8-4309-81af-bd39abca630c"
      },
      "source": [
        "yactualtest.shape"
      ],
      "execution_count": null,
      "outputs": [
        {
          "output_type": "execute_result",
          "data": {
            "text/plain": [
              "(6, 1)"
            ]
          },
          "metadata": {
            "tags": []
          },
          "execution_count": 207
        }
      ]
    },
    {
      "cell_type": "code",
      "metadata": {
        "execution": {
          "iopub.status.busy": "2021-07-27T20:10:01.002652Z",
          "iopub.execute_input": "2021-07-27T20:10:01.003574Z",
          "iopub.status.idle": "2021-07-27T20:10:01.164016Z",
          "shell.execute_reply.started": "2021-07-27T20:10:01.003507Z",
          "shell.execute_reply": "2021-07-27T20:10:01.162801Z"
        },
        "trusted": true,
        "colab": {
          "base_uri": "https://localhost:8080/",
          "height": 283
        },
        "id": "m8OCR52UyBzq",
        "outputId": "319087f2-3d6e-4e21-e029-117460f3c369"
      },
      "source": [
        "import matplotlib.pyplot as plt\n",
        "\n",
        "dates = dates.astype('datetime64')\n",
        "dates = dates.to_numpy()\n",
        "\n",
        "\n",
        "plt.plot(y_pred,label=\"Predicted on test set\")\n",
        "\n",
        "plt.plot(yactual,label=\"Actual cases on test set\")\n",
        "plt.legend()"
      ],
      "execution_count": null,
      "outputs": [
        {
          "output_type": "execute_result",
          "data": {
            "text/plain": [
              "<matplotlib.legend.Legend at 0x7fa68d16c6d0>"
            ]
          },
          "metadata": {
            "tags": []
          },
          "execution_count": 208
        },
        {
          "output_type": "display_data",
          "data": {
            "image/png": "[encoded data removed]",
            "text/plain": [
              "<Figure size 432x288 with 1 Axes>"
            ]
          },
          "metadata": {
            "tags": [],
            "needs_background": "light"
          }
        }
      ]
    },
    {
      "cell_type": "code",
      "metadata": {
        "execution": {
          "iopub.status.busy": "2021-07-27T20:10:04.164394Z",
          "iopub.execute_input": "2021-07-27T20:10:04.164852Z",
          "iopub.status.idle": "2021-07-27T20:10:04.171449Z",
          "shell.execute_reply.started": "2021-07-27T20:10:04.164817Z",
          "shell.execute_reply": "2021-07-27T20:10:04.170324Z"
        },
        "trusted": true,
        "id": "EY1uQwfyyBzr"
      },
      "source": [
        "dates.shape\n",
        "dates_plot = dates[n_steps-1:-n_test-1]"
      ],
      "execution_count": null,
      "outputs": []
    },
    {
      "cell_type": "code",
      "metadata": {
        "execution": {
          "iopub.status.busy": "2021-07-27T20:10:05.637058Z",
          "iopub.execute_input": "2021-07-27T20:10:05.637522Z",
          "iopub.status.idle": "2021-07-27T20:10:05.644653Z",
          "shell.execute_reply.started": "2021-07-27T20:10:05.637485Z",
          "shell.execute_reply": "2021-07-27T20:10:05.643245Z"
        },
        "trusted": true,
        "colab": {
          "base_uri": "https://localhost:8080/"
        },
        "id": "riDgFuR9yBzr",
        "outputId": "ec8e4b35-8c90-4cd7-f856-78dfc97ed80c"
      },
      "source": [
        "dates_plot.shape"
      ],
      "execution_count": null,
      "outputs": [
        {
          "output_type": "execute_result",
          "data": {
            "text/plain": [
              "(466, 1)"
            ]
          },
          "metadata": {
            "tags": []
          },
          "execution_count": 210
        }
      ]
    },
    {
      "cell_type": "code",
      "metadata": {
        "execution": {
          "iopub.status.busy": "2021-07-27T20:10:07.724763Z",
          "iopub.execute_input": "2021-07-27T20:10:07.725139Z",
          "iopub.status.idle": "2021-07-27T20:10:08.035693Z",
          "shell.execute_reply.started": "2021-07-27T20:10:07.725108Z",
          "shell.execute_reply": "2021-07-27T20:10:08.034973Z"
        },
        "trusted": true,
        "colab": {
          "base_uri": "https://localhost:8080/",
          "height": 604
        },
        "id": "efUsx-iHyBzs",
        "outputId": "98aec035-5483-4ba6-8511-65956e1fa214"
      },
      "source": [
        "fig , axis = plt.subplots(1,1)\n",
        "fig.set_size_inches(20,10)\n",
        "\n",
        "plt.plot( dates_plot, y_pred, label = 'predicted')\n",
        "plt.plot(dates_plot, yactual, label = 'actual')\n",
        "plt.legend()\n",
        "\n",
        "plt.ylabel('Total cases')\n",
        "plt.xlabel('Date')"
      ],
      "execution_count": null,
      "outputs": [
        {
          "output_type": "execute_result",
          "data": {
            "text/plain": [
              "Text(0.5, 0, 'Date')"
            ]
          },
          "metadata": {
            "tags": []
          },
          "execution_count": 211
        },
        {
          "output_type": "display_data",
          "data": {
            "image/png": "[encoded data removed]",
            "text/plain": [
              "<Figure size 1440x720 with 1 Axes>"
            ]
          },
          "metadata": {
            "tags": [],
            "needs_background": "light"
          }
        }
      ]
    },
    {
      "cell_type": "code",
      "metadata": {
        "execution": {
          "iopub.status.busy": "2021-07-27T20:10:10.811193Z",
          "iopub.execute_input": "2021-07-27T20:10:10.813214Z",
          "iopub.status.idle": "2021-07-27T20:10:10.820869Z",
          "shell.execute_reply.started": "2021-07-27T20:10:10.813154Z",
          "shell.execute_reply": "2021-07-27T20:10:10.819339Z"
        },
        "trusted": true,
        "colab": {
          "base_uri": "https://localhost:8080/"
        },
        "id": "pSY2ILzkyBzt",
        "outputId": "9a172d42-bd94-41d6-920b-f32d7744b936"
      },
      "source": [
        "dates_plot_test = dates[-n_test+3:]\n",
        "\n",
        "dates_plot_test.shape"
      ],
      "execution_count": null,
      "outputs": [
        {
          "output_type": "execute_result",
          "data": {
            "text/plain": [
              "(6, 1)"
            ]
          },
          "metadata": {
            "tags": []
          },
          "execution_count": 212
        }
      ]
    },
    {
      "cell_type": "code",
      "metadata": {
        "execution": {
          "iopub.status.busy": "2021-07-27T20:10:13.726435Z",
          "iopub.execute_input": "2021-07-27T20:10:13.726787Z",
          "iopub.status.idle": "2021-07-27T20:10:13.733970Z",
          "shell.execute_reply.started": "2021-07-27T20:10:13.726754Z",
          "shell.execute_reply": "2021-07-27T20:10:13.732471Z"
        },
        "trusted": true,
        "colab": {
          "base_uri": "https://localhost:8080/"
        },
        "id": "E0rDMAyhyBzt",
        "outputId": "29d57adc-248c-400d-9716-321c078a9336"
      },
      "source": [
        "y_pred_test"
      ],
      "execution_count": null,
      "outputs": [
        {
          "output_type": "execute_result",
          "data": {
            "text/plain": [
              "array([[844295.2 ],\n",
              "       [848136.4 ],\n",
              "       [850865.94],\n",
              "       [854338.1 ],\n",
              "       [859681.75],\n",
              "       [865110.6 ]], dtype=float32)"
            ]
          },
          "metadata": {
            "tags": []
          },
          "execution_count": 213
        }
      ]
    },
    {
      "cell_type": "code",
      "metadata": {
        "execution": {
          "iopub.status.busy": "2021-07-27T20:10:14.446825Z",
          "iopub.execute_input": "2021-07-27T20:10:14.447183Z",
          "iopub.status.idle": "2021-07-27T20:10:14.453707Z",
          "shell.execute_reply.started": "2021-07-27T20:10:14.447155Z",
          "shell.execute_reply": "2021-07-27T20:10:14.452797Z"
        },
        "trusted": true,
        "colab": {
          "base_uri": "https://localhost:8080/"
        },
        "id": "Y0_KgVSRyBzu",
        "outputId": "a727fb38-840b-4755-a35e-b91d192d2664"
      },
      "source": [
        "yactualtest"
      ],
      "execution_count": null,
      "outputs": [
        {
          "output_type": "execute_result",
          "data": {
            "text/plain": [
              "array([[844970.],\n",
              "       [848027.],\n",
              "       [851668.],\n",
              "       [856304.],\n",
              "       [861150.],\n",
              "       [866877.]])"
            ]
          },
          "metadata": {
            "tags": []
          },
          "execution_count": 214
        }
      ]
    },
    {
      "cell_type": "code",
      "metadata": {
        "execution": {
          "iopub.status.busy": "2021-07-27T20:10:16.820448Z",
          "iopub.execute_input": "2021-07-27T20:10:16.820812Z",
          "iopub.status.idle": "2021-07-27T20:10:16.828103Z",
          "shell.execute_reply.started": "2021-07-27T20:10:16.820783Z",
          "shell.execute_reply": "2021-07-27T20:10:16.827004Z"
        },
        "trusted": true,
        "colab": {
          "base_uri": "https://localhost:8080/"
        },
        "id": "M6gXtKVMyBzv",
        "outputId": "55b9f8a7-15b6-4585-dc2d-4388eb2dee05"
      },
      "source": [
        "dates_plot_test"
      ],
      "execution_count": null,
      "outputs": [
        {
          "output_type": "execute_result",
          "data": {
            "text/plain": [
              "array([['2021-06-18T00:00:00.000000000'],\n",
              "       ['2021-06-19T00:00:00.000000000'],\n",
              "       ['2021-06-20T00:00:00.000000000'],\n",
              "       ['2021-06-21T00:00:00.000000000'],\n",
              "       ['2021-06-22T00:00:00.000000000'],\n",
              "       ['2021-06-23T00:00:00.000000000']], dtype='datetime64[ns]')"
            ]
          },
          "metadata": {
            "tags": []
          },
          "execution_count": 215
        }
      ]
    },
    {
      "cell_type": "code",
      "metadata": {
        "trusted": true,
        "id": "5jATKP8WyBzv"
      },
      "source": [],
      "execution_count": null,
      "outputs": []
    },
    {
      "cell_type": "code",
      "metadata": {
        "execution": {
          "iopub.status.busy": "2021-07-27T20:10:30.330775Z",
          "iopub.execute_input": "2021-07-27T20:10:30.331146Z",
          "iopub.status.idle": "2021-07-27T20:10:30.597637Z",
          "shell.execute_reply.started": "2021-07-27T20:10:30.331117Z",
          "shell.execute_reply": "2021-07-27T20:10:30.596458Z"
        },
        "trusted": true,
        "colab": {
          "base_uri": "https://localhost:8080/",
          "height": 608
        },
        "id": "f6M3k8FDyBzw",
        "outputId": "805be976-52db-4755-f668-97ce63cfb08e"
      },
      "source": [
        "fig , axis = plt.subplots(1,1)\n",
        "fig.set_size_inches(20,10)\n",
        "\n",
        "\n",
        "\n",
        "plt.plot( dates_plot_test, y_pred_test, label = 'predicted')\n",
        "plt.plot(dates_plot_test, yactualtest, label = 'actual')\n",
        "plt.legend()\n",
        "\n",
        "plt.ylabel('Total cases')\n",
        "plt.xlabel('Date')"
      ],
      "execution_count": null,
      "outputs": [
        {
          "output_type": "execute_result",
          "data": {
            "text/plain": [
              "Text(0.5, 0, 'Date')"
            ]
          },
          "metadata": {
            "tags": []
          },
          "execution_count": 216
        },
        {
          "output_type": "display_data",
          "data": {
            "image/png": "[encoded data removed]",
            "text/plain": [
              "<Figure size 1440x720 with 1 Axes>"
            ]
          },
          "metadata": {
            "tags": [],
            "needs_background": "light"
          }
        }
      ]
    },
    {
      "cell_type": "code",
      "metadata": {
        "id": "fZDA0oegyBzx"
      },
      "source": [
        "def mean_absolute_percentage_error(y_true, y_pred):\n",
        "    y_true, y_pred = np.array(y_true), np.array(y_pred)\n",
        "    return np.mean(np.abs((y_true - y_pred) / y_true)) * 100"
      ],
      "execution_count": null,
      "outputs": []
    },
    {
      "cell_type": "code",
      "metadata": {
        "colab": {
          "base_uri": "https://localhost:8080/"
        },
        "id": "f4UtQ5Mc6-zk",
        "outputId": "663e34b2-1c0f-40e2-ea78-b17ce1509b12"
      },
      "source": [
        "mlp_mape = mean_absolute_percentage_error(yactualtest, y_pred_test)\n",
        "mlp_mape"
      ],
      "execution_count": null,
      "outputs": [
        {
          "output_type": "execute_result",
          "data": {
            "text/plain": [
              "0.13179565640102806"
            ]
          },
          "metadata": {
            "tags": []
          },
          "execution_count": 218
        }
      ]
    },
    {
      "cell_type": "code",
      "metadata": {
        "colab": {
          "base_uri": "https://localhost:8080/"
        },
        "id": "hQfSmiiv7GRG",
        "outputId": "13e7b19a-cc81-44a7-db6a-760f8a47c75e"
      },
      "source": [
        "#accuracy measurement\n",
        "test_accuracy = 100 - mlp_mape\n",
        "test_accuracy"
      ],
      "execution_count": null,
      "outputs": [
        {
          "output_type": "execute_result",
          "data": {
            "text/plain": [
              "99.86820434359898"
            ]
          },
          "metadata": {
            "tags": []
          },
          "execution_count": 219
        }
      ]
    }
  ]
}